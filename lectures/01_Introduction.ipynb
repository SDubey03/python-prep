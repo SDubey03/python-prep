{
 "cells": [
  {
   "cell_type": "markdown",
   "id": "9537cd6d",
   "metadata": {},
   "source": [
    "# Introduction\n",
    "\n",
    "You may have zero experience with python and/or coding, that's okay!\n",
    "\n",
    "In these python prep notebooks, we will cover everything you need to know to follow along with our python-focused educational content. The goal is to provide you with a firm footing in python so that when the time comes you can focus primarily on the non-python-specific content.\n",
    "\n",
    "## A Word of Caution\n",
    "\n",
    "If you are new to python, learning other content in addition to regular python can feel overwhelming.\n",
    "\n",
    "1. That's okay! You are learning a lot of new stuff, just set aside some time to go through whatever you need to at your own pace.\n",
    "2. With that in mind, review these notebooks and work the practice problems.\n",
    "\n",
    "Let's get going! :-D"
   ]
  },
  {
   "cell_type": "markdown",
   "id": "80b8287f",
   "metadata": {},
   "source": [
    "---------------------------\n",
    "\n",
    "\n",
    "This notebook was written for the Erdős Institute Cőde Data Science Boot Camp by Matthew Osborne, Ph. D., 2023.\n",
    "\n",
    "Any potential redistributors must seek and receive permission from Matthew Tyler Osborne, Ph.D. prior to redistribution. Redistribution of the material contained in this repository is conditional on acknowledgement of Matthew Tyler Osborne, Ph.D.'s original authorship and sponsorship of the Erdős Institute as subject to the license (see License.md)"
   ]
  },
  {
   "cell_type": "code",
   "execution_count": null,
   "id": "1a3e03fc",
   "metadata": {},
   "outputs": [],
   "source": []
  }
 ],
 "metadata": {
  "kernelspec": {
   "display_name": "Python 3 (ipykernel)",
   "language": "python",
   "name": "python3"
  },
  "language_info": {
   "codemirror_mode": {
    "name": "ipython",
    "version": 3
   },
   "file_extension": ".py",
   "mimetype": "text/x-python",
   "name": "python",
   "nbconvert_exporter": "python",
   "pygments_lexer": "ipython3",
   "version": "3.9.12"
  }
 },
 "nbformat": 4,
 "nbformat_minor": 5
}
